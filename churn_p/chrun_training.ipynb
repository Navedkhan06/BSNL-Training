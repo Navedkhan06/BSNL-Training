{
 "cells": [
  {
   "cell_type": "code",
   "execution_count": 1,
   "id": "b566075c",
   "metadata": {},
   "outputs": [],
   "source": [
    "import pandas as pd"
   ]
  },
  {
   "cell_type": "code",
   "execution_count": 2,
   "id": "d73cb483",
   "metadata": {},
   "outputs": [],
   "source": [
    "import numpy as np"
   ]
  },
  {
   "cell_type": "code",
   "execution_count": 3,
   "id": "99e2cbba",
   "metadata": {},
   "outputs": [],
   "source": [
    "# Reproducibility\n",
    "rng = np.random.default_rng(42)\n"
   ]
  },
  {
   "cell_type": "code",
   "execution_count": 4,
   "id": "993cdcce",
   "metadata": {},
   "outputs": [],
   "source": [
    "n = 300\n",
    "df = pd.DataFrame({\n",
    "    \"age\": rng.integers(18, 70, size=n),\n",
    "    \"usage_gb\": np.round(rng.normal(12, 6, size=n).clip(0, None), 1),\n",
    "    \"complaints\": rng.integers(0, 6, size=n),\n",
    "    \"tenure_months\": rng.integers(1, 60, size=n),\n",
    "    \"plan_type\": rng.choice([\"Prepaid\", \"Postpaid\"], size=n, p=[0.6, 0.4])\n",
    "})\n"
   ]
  },
  {
   "cell_type": "code",
   "execution_count": 5,
   "id": "aa35f916",
   "metadata": {},
   "outputs": [],
   "source": [
    "# Simple churn signal (not perfect): high complaints + low tenure + low usage more likely to churn\n",
    "logit = (\n",
    "    -2.0\n",
    "    + 0.35*df[\"complaints\"]\n",
    "    - 0.03*df[\"tenure_months\"]\n",
    "    - 0.04*df[\"usage_gb\"]\n",
    "    + (df[\"plan_type\"] == \"Prepaid\").astype(int)*0.4\n",
    ")\n",
    "prob = 1/(1+np.exp(-logit))\n",
    "df[\"churn\"] = (rng.random(n) < prob).astype(int)\n"
   ]
  },
  {
   "cell_type": "code",
   "execution_count": 6,
   "id": "de95049d",
   "metadata": {},
   "outputs": [
    {
     "name": "stdout",
     "output_type": "stream",
     "text": [
      "Saved churn_data.csv with shape: (300, 6)\n"
     ]
    },
    {
     "data": {
      "text/html": [
       "<div>\n",
       "<style scoped>\n",
       "    .dataframe tbody tr th:only-of-type {\n",
       "        vertical-align: middle;\n",
       "    }\n",
       "\n",
       "    .dataframe tbody tr th {\n",
       "        vertical-align: top;\n",
       "    }\n",
       "\n",
       "    .dataframe thead th {\n",
       "        text-align: right;\n",
       "    }\n",
       "</style>\n",
       "<table border=\"1\" class=\"dataframe\">\n",
       "  <thead>\n",
       "    <tr style=\"text-align: right;\">\n",
       "      <th></th>\n",
       "      <th>age</th>\n",
       "      <th>usage_gb</th>\n",
       "      <th>complaints</th>\n",
       "      <th>tenure_months</th>\n",
       "      <th>plan_type</th>\n",
       "      <th>churn</th>\n",
       "    </tr>\n",
       "  </thead>\n",
       "  <tbody>\n",
       "    <tr>\n",
       "      <th>0</th>\n",
       "      <td>22.0</td>\n",
       "      <td>18.4</td>\n",
       "      <td>2</td>\n",
       "      <td>38</td>\n",
       "      <td>Prepaid</td>\n",
       "      <td>0</td>\n",
       "    </tr>\n",
       "    <tr>\n",
       "      <th>1</th>\n",
       "      <td>58.0</td>\n",
       "      <td>12.9</td>\n",
       "      <td>5</td>\n",
       "      <td>21</td>\n",
       "      <td>Prepaid</td>\n",
       "      <td>1</td>\n",
       "    </tr>\n",
       "    <tr>\n",
       "      <th>2</th>\n",
       "      <td>52.0</td>\n",
       "      <td>11.0</td>\n",
       "      <td>0</td>\n",
       "      <td>1</td>\n",
       "      <td>Postpaid</td>\n",
       "      <td>0</td>\n",
       "    </tr>\n",
       "    <tr>\n",
       "      <th>3</th>\n",
       "      <td>40.0</td>\n",
       "      <td>5.8</td>\n",
       "      <td>0</td>\n",
       "      <td>8</td>\n",
       "      <td>Prepaid</td>\n",
       "      <td>0</td>\n",
       "    </tr>\n",
       "    <tr>\n",
       "      <th>4</th>\n",
       "      <td>40.0</td>\n",
       "      <td>2.0</td>\n",
       "      <td>2</td>\n",
       "      <td>18</td>\n",
       "      <td>Prepaid</td>\n",
       "      <td>0</td>\n",
       "    </tr>\n",
       "  </tbody>\n",
       "</table>\n",
       "</div>"
      ],
      "text/plain": [
       "    age  usage_gb  complaints  tenure_months plan_type  churn\n",
       "0  22.0      18.4           2             38   Prepaid      0\n",
       "1  58.0      12.9           5             21   Prepaid      1\n",
       "2  52.0      11.0           0              1  Postpaid      0\n",
       "3  40.0       5.8           0              8   Prepaid      0\n",
       "4  40.0       2.0           2             18   Prepaid      0"
      ]
     },
     "execution_count": 6,
     "metadata": {},
     "output_type": "execute_result"
    }
   ],
   "source": [
    "# Intentionally add a few missing/odd values to practice fixing (no row drops)\n",
    "df.loc[rng.choice(df.index, 5, replace=False), \"usage_gb\"] = np.nan\n",
    "df.loc[rng.choice(df.index, 3, replace=False), \"age\"] = np.nan\n",
    "df.loc[rng.choice(df.index, 3, replace=False), \"plan_type\"] = None\n",
    "\n",
    "df.to_csv(\"churn_data.csv\", index=False)\n",
    "print(\"Saved churn_data.csv with shape:\", df.shape)\n",
    "df.head()\n"
   ]
  },
  {
   "cell_type": "code",
   "execution_count": 7,
   "id": "9b477600",
   "metadata": {},
   "outputs": [],
   "source": [
    "import pandas as pd\n",
    "from sklearn.impute import SimpleImputer\n"
   ]
  },
  {
   "cell_type": "code",
   "execution_count": 8,
   "id": "57f7bb80",
   "metadata": {},
   "outputs": [
    {
     "name": "stdout",
     "output_type": "stream",
     "text": [
      "Original shape: (300, 6)\n"
     ]
    },
    {
     "data": {
      "text/html": [
       "<div>\n",
       "<style scoped>\n",
       "    .dataframe tbody tr th:only-of-type {\n",
       "        vertical-align: middle;\n",
       "    }\n",
       "\n",
       "    .dataframe tbody tr th {\n",
       "        vertical-align: top;\n",
       "    }\n",
       "\n",
       "    .dataframe thead th {\n",
       "        text-align: right;\n",
       "    }\n",
       "</style>\n",
       "<table border=\"1\" class=\"dataframe\">\n",
       "  <thead>\n",
       "    <tr style=\"text-align: right;\">\n",
       "      <th></th>\n",
       "      <th>age</th>\n",
       "      <th>usage_gb</th>\n",
       "      <th>complaints</th>\n",
       "      <th>tenure_months</th>\n",
       "      <th>plan_type</th>\n",
       "      <th>churn</th>\n",
       "    </tr>\n",
       "  </thead>\n",
       "  <tbody>\n",
       "    <tr>\n",
       "      <th>0</th>\n",
       "      <td>22.0</td>\n",
       "      <td>18.4</td>\n",
       "      <td>2</td>\n",
       "      <td>38</td>\n",
       "      <td>Prepaid</td>\n",
       "      <td>0</td>\n",
       "    </tr>\n",
       "    <tr>\n",
       "      <th>1</th>\n",
       "      <td>58.0</td>\n",
       "      <td>12.9</td>\n",
       "      <td>5</td>\n",
       "      <td>21</td>\n",
       "      <td>Prepaid</td>\n",
       "      <td>1</td>\n",
       "    </tr>\n",
       "    <tr>\n",
       "      <th>2</th>\n",
       "      <td>52.0</td>\n",
       "      <td>11.0</td>\n",
       "      <td>0</td>\n",
       "      <td>1</td>\n",
       "      <td>Postpaid</td>\n",
       "      <td>0</td>\n",
       "    </tr>\n",
       "    <tr>\n",
       "      <th>3</th>\n",
       "      <td>40.0</td>\n",
       "      <td>5.8</td>\n",
       "      <td>0</td>\n",
       "      <td>8</td>\n",
       "      <td>Prepaid</td>\n",
       "      <td>0</td>\n",
       "    </tr>\n",
       "    <tr>\n",
       "      <th>4</th>\n",
       "      <td>40.0</td>\n",
       "      <td>2.0</td>\n",
       "      <td>2</td>\n",
       "      <td>18</td>\n",
       "      <td>Prepaid</td>\n",
       "      <td>0</td>\n",
       "    </tr>\n",
       "  </tbody>\n",
       "</table>\n",
       "</div>"
      ],
      "text/plain": [
       "    age  usage_gb  complaints  tenure_months plan_type  churn\n",
       "0  22.0      18.4           2             38   Prepaid      0\n",
       "1  58.0      12.9           5             21   Prepaid      1\n",
       "2  52.0      11.0           0              1  Postpaid      0\n",
       "3  40.0       5.8           0              8   Prepaid      0\n",
       "4  40.0       2.0           2             18   Prepaid      0"
      ]
     },
     "metadata": {},
     "output_type": "display_data"
    }
   ],
   "source": [
    "df = pd.read_csv(\"churn_data.csv\")\n",
    "print(\"Original shape:\", df.shape)\n",
    "display(df.head())\n"
   ]
  },
  {
   "cell_type": "code",
   "execution_count": 9,
   "id": "4c8afa6b",
   "metadata": {},
   "outputs": [],
   "source": [
    "# --- Numeric imputation: fill NaNs with median (robust to outliers) ---\n",
    "num_cols = [\"age\", \"usage_gb\", \"complaints\", \"tenure_months\"]\n",
    "num_imputer = SimpleImputer(strategy=\"median\")\n",
    "df[num_cols] = num_imputer.fit_transform(df[num_cols])\n"
   ]
  },
  {
   "cell_type": "code",
   "execution_count": 10,
   "id": "8cae8359",
   "metadata": {},
   "outputs": [],
   "source": [
    "# --- Categorical imputation: fill missing with most frequent ---\n",
    "cat_cols = [\"plan_type\"]\n",
    "cat_imputer = SimpleImputer(strategy=\"most_frequent\")\n",
    "df[cat_cols] = cat_imputer.fit_transform(df[cat_cols])\n"
   ]
  },
  {
   "cell_type": "code",
   "execution_count": 11,
   "id": "af6f33e7",
   "metadata": {},
   "outputs": [],
   "source": [
    "# --- Encode plan_type to numeric (0=Prepaid, 1=Postpaid) ---\n",
    "df[\"plan_type_enc\"] = (df[\"plan_type\"] == \"Postpaid\").astype(int)\n"
   ]
  },
  {
   "cell_type": "code",
   "execution_count": 12,
   "id": "df82e16a",
   "metadata": {},
   "outputs": [],
   "source": [
    "# --- Feature matrix (X) and target (y) ---\n",
    "X = df[[\"age\", \"usage_gb\", \"complaints\", \"tenure_months\", \"plan_type_enc\"]]\n",
    "y = df[\"churn\"].astype(int)\n"
   ]
  },
  {
   "cell_type": "code",
   "execution_count": 13,
   "id": "3563c774",
   "metadata": {},
   "outputs": [
    {
     "name": "stdout",
     "output_type": "stream",
     "text": [
      "Any remaining NaNs? -> 0 0\n"
     ]
    }
   ],
   "source": [
    "print(\"Any remaining NaNs? ->\", X.isna().sum().sum(), y.isna().sum())"
   ]
  },
  {
   "cell_type": "code",
   "execution_count": null,
   "id": "a496584a",
   "metadata": {},
   "outputs": [
    {
     "name": "stdout",
     "output_type": "stream",
     "text": [
      "✅ Saved cleaned dataset as 'updated_churn_data.csv' with 300 rows.\n"
     ]
    }
   ],
   "source": [
    "# --- ✅ Save cleaned dataset to CSV ---\n",
    "df.to_csv(\"updated_churn_data.csv\", index=False)\n",
    "print(\"✅ Saved cleaned dataset as 'updated_churn_data.csv' with\", len(df), \"rows.\")\n",
    "\n"
   ]
  },
  {
   "cell_type": "code",
   "execution_count": 16,
   "id": "b212cef8",
   "metadata": {},
   "outputs": [
    {
     "data": {
      "text/html": [
       "<div>\n",
       "<style scoped>\n",
       "    .dataframe tbody tr th:only-of-type {\n",
       "        vertical-align: middle;\n",
       "    }\n",
       "\n",
       "    .dataframe tbody tr th {\n",
       "        vertical-align: top;\n",
       "    }\n",
       "\n",
       "    .dataframe thead th {\n",
       "        text-align: right;\n",
       "    }\n",
       "</style>\n",
       "<table border=\"1\" class=\"dataframe\">\n",
       "  <thead>\n",
       "    <tr style=\"text-align: right;\">\n",
       "      <th></th>\n",
       "      <th>age</th>\n",
       "      <th>usage_gb</th>\n",
       "      <th>complaints</th>\n",
       "      <th>tenure_months</th>\n",
       "      <th>plan_type</th>\n",
       "      <th>churn</th>\n",
       "      <th>plan_type_enc</th>\n",
       "    </tr>\n",
       "  </thead>\n",
       "  <tbody>\n",
       "    <tr>\n",
       "      <th>0</th>\n",
       "      <td>22.0</td>\n",
       "      <td>18.4</td>\n",
       "      <td>2.0</td>\n",
       "      <td>38.0</td>\n",
       "      <td>Prepaid</td>\n",
       "      <td>0</td>\n",
       "      <td>0</td>\n",
       "    </tr>\n",
       "    <tr>\n",
       "      <th>1</th>\n",
       "      <td>58.0</td>\n",
       "      <td>12.9</td>\n",
       "      <td>5.0</td>\n",
       "      <td>21.0</td>\n",
       "      <td>Prepaid</td>\n",
       "      <td>1</td>\n",
       "      <td>0</td>\n",
       "    </tr>\n",
       "    <tr>\n",
       "      <th>2</th>\n",
       "      <td>52.0</td>\n",
       "      <td>11.0</td>\n",
       "      <td>0.0</td>\n",
       "      <td>1.0</td>\n",
       "      <td>Postpaid</td>\n",
       "      <td>0</td>\n",
       "      <td>1</td>\n",
       "    </tr>\n",
       "    <tr>\n",
       "      <th>3</th>\n",
       "      <td>40.0</td>\n",
       "      <td>5.8</td>\n",
       "      <td>0.0</td>\n",
       "      <td>8.0</td>\n",
       "      <td>Prepaid</td>\n",
       "      <td>0</td>\n",
       "      <td>0</td>\n",
       "    </tr>\n",
       "    <tr>\n",
       "      <th>4</th>\n",
       "      <td>40.0</td>\n",
       "      <td>2.0</td>\n",
       "      <td>2.0</td>\n",
       "      <td>18.0</td>\n",
       "      <td>Prepaid</td>\n",
       "      <td>0</td>\n",
       "      <td>0</td>\n",
       "    </tr>\n",
       "  </tbody>\n",
       "</table>\n",
       "</div>"
      ],
      "text/plain": [
       "    age  usage_gb  complaints  tenure_months plan_type  churn  plan_type_enc\n",
       "0  22.0      18.4         2.0           38.0   Prepaid      0              0\n",
       "1  58.0      12.9         5.0           21.0   Prepaid      1              0\n",
       "2  52.0      11.0         0.0            1.0  Postpaid      0              1\n",
       "3  40.0       5.8         0.0            8.0   Prepaid      0              0\n",
       "4  40.0       2.0         2.0           18.0   Prepaid      0              0"
      ]
     },
     "execution_count": 16,
     "metadata": {},
     "output_type": "execute_result"
    }
   ],
   "source": [
    "df.head()"
   ]
  },
  {
   "cell_type": "code",
   "execution_count": null,
   "id": "1c6da5bb",
   "metadata": {},
   "outputs": [],
   "source": []
  }
 ],
 "metadata": {
  "kernelspec": {
   "display_name": "Python 3",
   "language": "python",
   "name": "python3"
  },
  "language_info": {
   "codemirror_mode": {
    "name": "ipython",
    "version": 3
   },
   "file_extension": ".py",
   "mimetype": "text/x-python",
   "name": "python",
   "nbconvert_exporter": "python",
   "pygments_lexer": "ipython3",
   "version": "3.10.9"
  }
 },
 "nbformat": 4,
 "nbformat_minor": 5
}
