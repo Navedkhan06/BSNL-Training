{
 "cells": [
  {
   "cell_type": "code",
   "execution_count": 1,
   "id": "eea486eb",
   "metadata": {},
   "outputs": [],
   "source": [
    "import pandas as pd"
   ]
  },
  {
   "cell_type": "code",
   "execution_count": 2,
   "id": "bb8ee447",
   "metadata": {},
   "outputs": [
    {
     "name": "stdout",
     "output_type": "stream",
     "text": [
      "✅ complaints.csv saved.\n"
     ]
    }
   ],
   "source": [
    "complaints = pd.DataFrame([\n",
    "  {\"complaint_id\":\"CMP-001\",\"customer_id\":1002,\"category\":\"Billing\",\"description\":\"Charged extra for data usage\",\"created_at\":\"2025/09/25 10:45\",\"status\":\"Open\"},\n",
    "  {\"complaint_id\":\"CMP-002\",\"customer_id\":1004,\"category\":\"Network\",\"description\":\"Frequent call drops in Delhi\",\"created_at\":\"2025-09-25 09:30\",\"status\":\"Open\"},\n",
    "  {\"complaint_id\":\"CMP-003\",\"customer_id\":1005,\"category\":\"Recharge\",\"description\":\"Recharge failed; amount deducted\",\"created_at\":\"25-09-2025 14:00\",\"status\":\"Closed\"},\n",
    "  {\"complaint_id\":\"CMP-004\",\"customer_id\":1002,\"category\":\"Network\",\"description\":\"Slow 4G speed at night\",\"created_at\":\"2025-09-26 20:40\",\"status\":\"Open\"},\n",
    "  {\"complaint_id\":\"CMP-005\",\"customer_id\":1003,\"category\":\"Support\",\"description\":\"No response to complaint\",\"created_at\":\"2025-09-26 11:10\",\"status\":\"Open\"}\n",
    "])\n",
    "complaints.to_csv(\"complaints.csv\", index=False)\n",
    "print(\"✅ complaints.csv saved.\")\n"
   ]
  },
  {
   "cell_type": "code",
   "execution_count": 3,
   "id": "beea9c22",
   "metadata": {},
   "outputs": [],
   "source": [
    "import pandas as pd\n"
   ]
  },
  {
   "cell_type": "code",
   "execution_count": 4,
   "id": "ada0f422",
   "metadata": {},
   "outputs": [],
   "source": [
    "from sqlalchemy import create_engine"
   ]
  },
  {
   "cell_type": "code",
   "execution_count": 5,
   "id": "afd951d4",
   "metadata": {},
   "outputs": [],
   "source": [
    "user = 'root'\n",
    "password = '1234'\n",
    "host = 'testdb'\n",
    "database = 'testdb'"
   ]
  },
  {
   "cell_type": "code",
   "execution_count": 6,
   "id": "2f6a9321",
   "metadata": {},
   "outputs": [],
   "source": [
    "engine = create_engine(f\"mysql+pymysql://{user}:{password}@{host}/{database}\")"
   ]
  },
  {
   "cell_type": "code",
   "execution_count": 7,
   "id": "6082f10f",
   "metadata": {},
   "outputs": [
    {
     "name": "stdout",
     "output_type": "stream",
     "text": [
      "✅ Connected to MySQL successfully!\n"
     ]
    }
   ],
   "source": [
    "# Check connection\n",
    "print(\"✅ Connected to MySQL successfully!\")\n"
   ]
  },
  {
   "cell_type": "code",
   "execution_count": 1,
   "id": "272ab5d1",
   "metadata": {},
   "outputs": [
    {
     "ename": "NameError",
     "evalue": "name 'pd' is not defined",
     "output_type": "error",
     "traceback": [
      "\u001b[1;31m---------------------------------------------------------------------------\u001b[0m",
      "\u001b[1;31mNameError\u001b[0m                                 Traceback (most recent call last)",
      "Cell \u001b[1;32mIn[1], line 2\u001b[0m\n\u001b[0;32m      1\u001b[0m \u001b[38;5;66;03m# Extract customers from MySQL\u001b[39;00m\n\u001b[1;32m----> 2\u001b[0m customers \u001b[38;5;241m=\u001b[39m \u001b[43mpd\u001b[49m\u001b[38;5;241m.\u001b[39mread_sql(\u001b[38;5;124m\"\u001b[39m\u001b[38;5;124mSELECT * FROM customers\u001b[39m\u001b[38;5;124m\"\u001b[39m, engine)\n",
      "\u001b[1;31mNameError\u001b[0m: name 'pd' is not defined"
     ]
    }
   ],
   "source": [
    "# Extract customers from MySQL\n",
    "customers = pd.read_sql(\"SELECT * FROM customers\", engine)\n"
   ]
  },
  {
   "cell_type": "code",
   "execution_count": null,
   "id": "18264e74",
   "metadata": {},
   "outputs": [],
   "source": []
  }
 ],
 "metadata": {
  "kernelspec": {
   "display_name": "Python 3",
   "language": "python",
   "name": "python3"
  },
  "language_info": {
   "codemirror_mode": {
    "name": "ipython",
    "version": 3
   },
   "file_extension": ".py",
   "mimetype": "text/x-python",
   "name": "python",
   "nbconvert_exporter": "python",
   "pygments_lexer": "ipython3",
   "version": "3.10.9"
  }
 },
 "nbformat": 4,
 "nbformat_minor": 5
}
