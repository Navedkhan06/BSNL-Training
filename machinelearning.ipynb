{
 "cells": [
  {
   "cell_type": "code",
   "execution_count": 1,
   "id": "3dae18a7",
   "metadata": {},
   "outputs": [],
   "source": [
    "import pandas as pd"
   ]
  },
  {
   "cell_type": "code",
   "execution_count": 2,
   "id": "aa7db7f1",
   "metadata": {},
   "outputs": [],
   "source": [
    "data = \"\"\"customer_id,usage_gb,call_mins,complaints,churn\n",
    "1001,5.2,240,1,No\n",
    "1002,12.3,410,0,No\n",
    "1003,2.5,80,2,Yes\n",
    "1004,8.4,320,1,No\n",
    "1005,1.8,60,3,Yes\n",
    "\"\"\"\n"
   ]
  },
  {
   "cell_type": "code",
   "execution_count": 3,
   "id": "dca25d8b",
   "metadata": {},
   "outputs": [
    {
     "name": "stdout",
     "output_type": "stream",
     "text": [
      "✅ mini_telco.csv created successfully!\n"
     ]
    }
   ],
   "source": [
    "open(\"mini_telco.csv\",\"w\").write(data)\n",
    "print(\"✅ mini_telco.csv created successfully!\")\n"
   ]
  },
  {
   "cell_type": "code",
   "execution_count": 4,
   "id": "c6fba149",
   "metadata": {},
   "outputs": [
    {
     "name": "stdout",
     "output_type": "stream",
     "text": [
      "✅ Dataset loaded successfully!\n",
      "   customer_id  usage_gb  call_mins  complaints churn\n",
      "0         1001       5.2        240           1    No\n",
      "1         1002      12.3        410           0    No\n",
      "2         1003       2.5         80           2   Yes\n",
      "3         1004       8.4        320           1    No\n",
      "4         1005       1.8         60           3   Yes\n"
     ]
    }
   ],
   "source": [
    "df = pd.read_csv(\"mini_telco.csv\")\n",
    "print(\"✅ Dataset loaded successfully!\")\n",
    "print(df.head())  # Show first 5 rows\n"
   ]
  },
  {
   "cell_type": "code",
   "execution_count": 5,
   "id": "7eea7119",
   "metadata": {},
   "outputs": [],
   "source": [
    "# Separate features and label\n",
    "X = df[['usage_gb', 'call_mins', 'complaints']]  # features\n",
    "y = df['churn']                                 # label\n"
   ]
  },
  {
   "cell_type": "code",
   "execution_count": 6,
   "id": "1a7b57d6",
   "metadata": {},
   "outputs": [
    {
     "name": "stdout",
     "output_type": "stream",
     "text": [
      "✅ Features (X):\n"
     ]
    }
   ],
   "source": [
    "print(\"✅ Features (X):\")"
   ]
  },
  {
   "cell_type": "code",
   "execution_count": 7,
   "id": "07c80970",
   "metadata": {},
   "outputs": [
    {
     "name": "stdout",
     "output_type": "stream",
     "text": [
      "   usage_gb  call_mins  complaints\n",
      "0       5.2        240           1\n",
      "1      12.3        410           0\n",
      "2       2.5         80           2\n",
      "3       8.4        320           1\n",
      "4       1.8         60           3\n"
     ]
    }
   ],
   "source": [
    "print(X.head())"
   ]
  },
  {
   "cell_type": "code",
   "execution_count": 8,
   "id": "71f53ec4",
   "metadata": {},
   "outputs": [
    {
     "name": "stdout",
     "output_type": "stream",
     "text": [
      "\n",
      "✅ Label (y):\n"
     ]
    }
   ],
   "source": [
    "print(\"\\n✅ Label (y):\")"
   ]
  },
  {
   "cell_type": "code",
   "execution_count": 9,
   "id": "8a17d673",
   "metadata": {},
   "outputs": [
    {
     "name": "stdout",
     "output_type": "stream",
     "text": [
      "0     No\n",
      "1     No\n",
      "2    Yes\n",
      "3     No\n",
      "4    Yes\n",
      "Name: churn, dtype: object\n"
     ]
    }
   ],
   "source": [
    "print(y.head())"
   ]
  },
  {
   "cell_type": "code",
   "execution_count": 10,
   "id": "f43b5df4",
   "metadata": {},
   "outputs": [],
   "source": [
    "data = \"\"\"customer_id,data_gb,call_mins\n",
    "1001,5.2,230\n",
    "1002,12.5,410\n",
    "1003,7.8,320\n",
    "1004,15.6,580\n",
    "1005,3.4,120\n",
    "1006,9.0,360\n",
    "1007,2.5,80\n",
    "1008,11.0,400\n",
    "1009,18.3,600\n",
    "1010,4.0,200\n",
    "\"\"\"\n"
   ]
  },
  {
   "cell_type": "code",
   "execution_count": 11,
   "id": "0ecfbe06",
   "metadata": {},
   "outputs": [
    {
     "name": "stdout",
     "output_type": "stream",
     "text": [
      "✅ Sample telecom_usage.csv created.\n"
     ]
    }
   ],
   "source": [
    "open(\"telecom_usage.csv\",\"w\").write(data)\n",
    "print(\"✅ Sample telecom_usage.csv created.\")"
   ]
  },
  {
   "cell_type": "code",
   "execution_count": 12,
   "id": "641c2ac8",
   "metadata": {},
   "outputs": [
    {
     "name": "stdout",
     "output_type": "stream",
     "text": [
      "✅ Data loaded successfully!\n",
      "   customer_id  data_gb  call_mins\n",
      "0         1001      5.2        230\n",
      "1         1002     12.5        410\n",
      "2         1003      7.8        320\n",
      "3         1004     15.6        580\n",
      "4         1005      3.4        120\n"
     ]
    }
   ],
   "source": [
    "df = pd.read_csv(\"telecom_usage.csv\")\n",
    "print(\"✅ Data loaded successfully!\")\n",
    "print(df.head())\n"
   ]
  },
  {
   "cell_type": "code",
   "execution_count": 13,
   "id": "47983b0d",
   "metadata": {},
   "outputs": [],
   "source": [
    "from sklearn.cluster import KMeans\n",
    "import matplotlib.pyplot as plt\n",
    "import seaborn as sns\n"
   ]
  },
  {
   "cell_type": "code",
   "execution_count": 14,
   "id": "2016f547",
   "metadata": {},
   "outputs": [],
   "source": [
    "kmeans = KMeans(n_clusters=3, random_state=0)\n",
    "kmeans.fit(df[['data_gb', 'call_mins']])\n",
    "df['cluster'] = kmeans.labels_"
   ]
  },
  {
   "cell_type": "code",
   "execution_count": 16,
   "id": "607d48ff",
   "metadata": {},
   "outputs": [
    {
     "name": "stdout",
     "output_type": "stream",
     "text": [
      "   customer_id  data_gb  call_mins  cluster\n",
      "0         1001      5.2        230        1\n",
      "1         1002     12.5        410        0\n",
      "2         1003      7.8        320        0\n",
      "3         1004     15.6        580        2\n",
      "4         1005      3.4        120        1\n",
      "5         1006      9.0        360        0\n",
      "6         1007      2.5         80        1\n",
      "7         1008     11.0        400        0\n",
      "8         1009     18.3        600        2\n",
      "9         1010      4.0        200        1\n"
     ]
    }
   ],
   "source": [
    "print(df)"
   ]
  },
  {
   "cell_type": "code",
   "execution_count": null,
   "id": "77bd6fa9",
   "metadata": {},
   "outputs": [],
   "source": []
  }
 ],
 "metadata": {
  "kernelspec": {
   "display_name": "Python 3",
   "language": "python",
   "name": "python3"
  },
  "language_info": {
   "codemirror_mode": {
    "name": "ipython",
    "version": 3
   },
   "file_extension": ".py",
   "mimetype": "text/x-python",
   "name": "python",
   "nbconvert_exporter": "python",
   "pygments_lexer": "ipython3",
   "version": "3.10.9"
  }
 },
 "nbformat": 4,
 "nbformat_minor": 5
}
