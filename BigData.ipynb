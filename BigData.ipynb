{
 "cells": [
  {
   "cell_type": "code",
   "execution_count": 2,
   "id": "67ca746f",
   "metadata": {},
   "outputs": [],
   "source": [
    "import pandas as pd"
   ]
  },
  {
   "cell_type": "code",
   "execution_count": 3,
   "id": "5152c209",
   "metadata": {},
   "outputs": [],
   "source": [
    "import numpy as np"
   ]
  },
  {
   "cell_type": "code",
   "execution_count": 4,
   "id": "f9a66b94",
   "metadata": {},
   "outputs": [],
   "source": [
    "# Create a large dataset of 5 million telecom records\n",
    "rows = 5_000_000\n",
    "np.random.seed(42)\n"
   ]
  },
  {
   "cell_type": "code",
   "execution_count": 5,
   "id": "a7f1e75b",
   "metadata": {},
   "outputs": [],
   "source": [
    "data = {\n",
    "    'customer_id': np.arange(1, rows + 1),\n",
    "    'data_used_gb': np.random.uniform(0.1, 100, size=rows).round(2),\n",
    "    'call_duration': np.random.randint(1, 500, size=rows),\n",
    "    'region': np.random.choice(['Delhi', 'Mumbai', 'Chennai', 'Kolkata', 'Bangalore'], size=rows)\n",
    "}\n"
   ]
  },
  {
   "cell_type": "code",
   "execution_count": 6,
   "id": "8943b80f",
   "metadata": {},
   "outputs": [],
   "source": [
    "df = pd.DataFrame(data)\n",
    "df.to_csv('big_telecom_data.csv', index=False)\n"
   ]
  },
  {
   "cell_type": "code",
   "execution_count": 7,
   "id": "00bede8d",
   "metadata": {},
   "outputs": [
    {
     "name": "stdout",
     "output_type": "stream",
     "text": [
      "✅ big_telecom_data.csv created successfully with 5 million rows.\n"
     ]
    }
   ],
   "source": [
    "print(\"✅ big_telecom_data.csv created successfully with 5 million rows.\")"
   ]
  },
  {
   "cell_type": "code",
   "execution_count": 8,
   "id": "b2605f63",
   "metadata": {},
   "outputs": [],
   "source": [
    "import pandas as pd"
   ]
  },
  {
   "cell_type": "code",
   "execution_count": 9,
   "id": "f201c567",
   "metadata": {},
   "outputs": [],
   "source": [
    "# Step 1: Read file in chunks of 100,000 rows\n",
    "chunks = pd.read_csv('big_telecom_data.csv', chunksize=100000)\n"
   ]
  },
  {
   "cell_type": "code",
   "execution_count": 10,
   "id": "e884a7da",
   "metadata": {},
   "outputs": [],
   "source": [
    "# Step 2: Initialize counters\n",
    "total_usage = 0\n",
    "heavy_users = 0\n"
   ]
  },
  {
   "cell_type": "code",
   "execution_count": 11,
   "id": "0e2047c8",
   "metadata": {},
   "outputs": [],
   "source": [
    "# Step 3: Process each chunk separately\n",
    "for chunk in chunks:\n",
    "    total_usage += chunk['data_used_gb'].sum()           # incremental sum\n",
    "    heavy_users += (chunk['data_used_gb'] > 50).sum()    # count high-usage users\n"
   ]
  },
  {
   "cell_type": "code",
   "execution_count": 12,
   "id": "7212cdc5",
   "metadata": {},
   "outputs": [
    {
     "name": "stdout",
     "output_type": "stream",
     "text": [
      "✅ Total data usage: 250,243,319.20 GB\n",
      "✅ Heavy users (>50GB): 2,501,641\n"
     ]
    }
   ],
   "source": [
    "# Step 4: Print results\n",
    "print(f\"✅ Total data usage: {total_usage:,.2f} GB\")\n",
    "print(f\"✅ Heavy users (>50GB): {heavy_users:,}\")\n"
   ]
  },
  {
   "cell_type": "code",
   "execution_count": 13,
   "id": "72eb100f",
   "metadata": {},
   "outputs": [],
   "source": [
    "import pandas as pd\n",
    "from tqdm import tqdm   # pip install tqdm\n"
   ]
  },
  {
   "cell_type": "code",
   "execution_count": 14,
   "id": "2a8e6c7a",
   "metadata": {},
   "outputs": [],
   "source": [
    "chunks = pd.read_csv('big_telecom_data.csv', chunksize=100000)\n",
    "total_usage = 0\n",
    "heavy_users = 0\n"
   ]
  },
  {
   "cell_type": "code",
   "execution_count": 15,
   "id": "6db390d1",
   "metadata": {},
   "outputs": [
    {
     "name": "stderr",
     "output_type": "stream",
     "text": [
      "Processing...: 50it [00:01, 28.61it/s]"
     ]
    },
    {
     "name": "stdout",
     "output_type": "stream",
     "text": [
      "\n",
      "✅ Total Data Usage: 250,243,319.20 GB\n",
      "✅ Heavy Users (>50GB): 2,501,641\n"
     ]
    },
    {
     "name": "stderr",
     "output_type": "stream",
     "text": [
      "\n"
     ]
    }
   ],
   "source": [
    "for chunk in tqdm(chunks, desc=\"Processing...\"):\n",
    "    total_usage += chunk['data_used_gb'].sum()\n",
    "    heavy_users += (chunk['data_used_gb'] > 50).sum()\n",
    "\n",
    "print(f\"\\n✅ Total Data Usage: {total_usage:,.2f} GB\")\n",
    "print(f\"✅ Heavy Users (>50GB): {heavy_users:,}\")\n"
   ]
  },
  {
   "cell_type": "code",
   "execution_count": 17,
   "id": "a7115cbc",
   "metadata": {},
   "outputs": [
    {
     "name": "stdout",
     "output_type": "stream",
     "text": [
      "Average data used per user (approx.): 50.05 GB\n"
     ]
    }
   ],
   "source": [
    "print(\"Average data used per user (approx.):\", round(total_usage / 5_000_000, 2), \"GB\")"
   ]
  }
 ],
 "metadata": {
  "kernelspec": {
   "display_name": "Python 3",
   "language": "python",
   "name": "python3"
  },
  "language_info": {
   "codemirror_mode": {
    "name": "ipython",
    "version": 3
   },
   "file_extension": ".py",
   "mimetype": "text/x-python",
   "name": "python",
   "nbconvert_exporter": "python",
   "pygments_lexer": "ipython3",
   "version": "3.10.9"
  }
 },
 "nbformat": 4,
 "nbformat_minor": 5
}
