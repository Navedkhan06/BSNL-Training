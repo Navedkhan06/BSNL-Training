{
 "cells": [
  {
   "cell_type": "code",
   "execution_count": 1,
   "id": "ac80536f",
   "metadata": {},
   "outputs": [],
   "source": [
    "import pandas as pd"
   ]
  },
  {
   "cell_type": "code",
   "execution_count": 2,
   "id": "0cb3fa60",
   "metadata": {},
   "outputs": [],
   "source": [
    "# Create the dataframe with your telecom data\n",
    "data = {\n",
    "    \"customer_id\": [1001, 1002, 1003, 1004, 1005],\n",
    "    \"data_used_gb\": [5.2, None, 7.8, 15.6, 3.4],\n",
    "    \"calls_made\": [25, 40, 32, 55, 18],\n",
    "    \"revenue_inr\": [180, 280, 210, None, 120],\n",
    "    \"region\": [\"delhi\", \"Mumbai\", \"chennai\", \"DELHI\", \"Kolkata\"],\n",
    "    \"date\": [\"2025/09/25\", \"2025-09-25\", \"25-09-2025\", \"2025-09-25\", \"2025-09-25\"]\n",
    "}\n"
   ]
  },
  {
   "cell_type": "code",
   "execution_count": 3,
   "id": "16b10258",
   "metadata": {},
   "outputs": [],
   "source": [
    "# Create a DataFrame\n",
    "telecom_df = pd.DataFrame(data)\n"
   ]
  },
  {
   "cell_type": "code",
   "execution_count": 4,
   "id": "acff1e15",
   "metadata": {},
   "outputs": [],
   "source": [
    "# Save to CSV\n",
    "telecom_df.to_csv(\"telecom_raw.csv\", index=False)\n"
   ]
  },
  {
   "cell_type": "code",
   "execution_count": 5,
   "id": "9048c2be",
   "metadata": {},
   "outputs": [
    {
     "name": "stdout",
     "output_type": "stream",
     "text": [
      "✅ telecom_raw.csv saved successfully.\n"
     ]
    }
   ],
   "source": [
    "print(\"✅ telecom_raw.csv saved successfully.\")"
   ]
  },
  {
   "cell_type": "code",
   "execution_count": 6,
   "id": "12bc0e34",
   "metadata": {},
   "outputs": [],
   "source": [
    "import os"
   ]
  },
  {
   "cell_type": "code",
   "execution_count": 7,
   "id": "48fe377b",
   "metadata": {},
   "outputs": [],
   "source": [
    "import time"
   ]
  },
  {
   "cell_type": "code",
   "execution_count": 8,
   "id": "2435d020",
   "metadata": {},
   "outputs": [],
   "source": [
    "import pandas as pd"
   ]
  },
  {
   "cell_type": "code",
   "execution_count": 11,
   "id": "95ac33e1",
   "metadata": {},
   "outputs": [],
   "source": [
    "import schedule\n",
    "from datetime import datetime\n"
   ]
  },
  {
   "cell_type": "code",
   "execution_count": 12,
   "id": "ea16e0d1",
   "metadata": {},
   "outputs": [],
   "source": [
    "RAW_PATH = \"telecom_raw.csv\"\n",
    "OUT_DIR  = \"output\"\n",
    "OUT_PATH = os.path.join(OUT_DIR, \"telecom_cleaned.csv\")\n",
    "TMP_PATH = os.path.join(OUT_DIR, \"telecom_cleaned.tmp.csv\")\n",
    "LOG_PATH = os.path.join(OUT_DIR, \"etl_run.log\")\n"
   ]
  },
  {
   "cell_type": "code",
   "execution_count": 13,
   "id": "1d764d4b",
   "metadata": {},
   "outputs": [],
   "source": [
    "os.makedirs(OUT_DIR, exist_ok=True)"
   ]
  },
  {
   "cell_type": "code",
   "execution_count": 17,
   "id": "da180eca",
   "metadata": {},
   "outputs": [],
   "source": [
    "def log(msg: str):\n",
    "    ts = datetime.now().strftime(\"%Y-%m-%d %H:%M:%S\")\n",
    "    with open(LOG_PATH, \"a\", encoding=\"utf-8\") as f:\n",
    "        f.write(f\"[{ts}] {msg}\\n\")\n",
    "    print(f\"[{ts}] {msg}\")\n"
   ]
  },
  {
   "cell_type": "code",
   "execution_count": 21,
   "id": "b15ff3b0",
   "metadata": {},
   "outputs": [],
   "source": [
    "def clean_frame(df: pd.DataFrame) -> pd.DataFrame:\n",
    "    # 1) Standardize text columns - Fix text formatting\n",
    "    if \"region\" in df.columns:\n",
    "        df[\"region\"] = df[\"region\"].astype(str).str.strip().str.title()\n",
    "            # 2) Fill missing numeric values with robust medians – missing numbers\n",
    "\n",
    "    for col in [\"data_used_gb\", \"calls_made\", \"revenue_inr\"]:\n",
    "        if col in df.columns:\n",
    "            if pd.api.types.is_numeric_dtype(df[col]) is False:\n",
    "                df[col] = pd.to_numeric(df[col], errors=\"coerce\")\n",
    "            df[col] = df[col].fillna(df[col].median())\n",
    "            # 3) Parse date; coerce + fill default - Fix date problems\n",
    "\n",
    "    if \"date\" in df.columns:\n",
    "        df[\"date\"] = pd.to_datetime(df[\"date\"], errors=\"coerce\")\n",
    "        df[\"date\"] = df[\"date\"].fillna(pd.Timestamp(\"2025-09-25\"))\n",
    "\n",
    "    # 4) De-duplicate but keep first; log how many were removed - Remove duplicates\n",
    "\n",
    "    if {\"customer_id\", \"date\"}.issubset(df.columns):\n",
    "        before = len(df)\n",
    "        df = df.drop_duplicates(subset=[\"customer_id\", \"date\"], keep=\"first\")\n",
    "        log(f\"Deduplicated: removed {before - len(df)} duplicate row(s).\")\n",
    "\n",
    "    # 5) Clip clearly invalid ranges (safety net) - Keep data realistic\n",
    "\n",
    "    if \"data_used_gb\" in df.columns:\n",
    "        df[\"data_used_gb\"] = df[\"data_used_gb\"].clip(lower=0, upper=100)\n",
    "    if \"revenue_inr\" in df.columns:\n",
    "        df[\"revenue_inr\"] = df[\"revenue_inr\"].clip(lower=0)\n",
    "\n",
    "    return df\n"
   ]
  },
  {
   "cell_type": "code",
   "execution_count": 22,
   "id": "666e1ff9",
   "metadata": {},
   "outputs": [],
   "source": [
    "# ETL JOB FUNCTION\n",
    "def etl_job():\n",
    "    try:\n",
    "        log(\"Starting ETL...\")\n",
    "        if not os.path.exists(RAW_PATH):\n",
    "            log(f\"Raw file not found: {RAW_PATH}\")\n",
    "            return\n",
    "\n",
    "        # EXTRACT\n",
    "        df = pd.read_csv(RAW_PATH)\n",
    "\n",
    "        # TRANSFORM\n",
    "        df = clean_frame(df)\n",
    "\n",
    "        # LOAD (atomic write: write tmp then rename -> avoids half-written files)\n",
    "        df.to_csv(TMP_PATH, index=False)\n",
    "        os.replace(TMP_PATH, OUT_PATH)\n",
    "\n",
    "        log(f\"ETL completed successfully. Rows written: {len(df)}.\")\n",
    "    except Exception as e:\n",
    "        log(f\"ETL failed: {e}\")\n"
   ]
  },
  {
   "cell_type": "code",
   "execution_count": 23,
   "id": "ed23f3a3",
   "metadata": {},
   "outputs": [
    {
     "name": "stdout",
     "output_type": "stream",
     "text": [
      "[2025-10-29 15:19:44] Starting ETL...\n",
      "[2025-10-29 15:19:44] Deduplicated: removed 0 duplicate row(s).\n",
      "[2025-10-29 15:19:44] ETL completed successfully. Rows written: 5.\n",
      "[2025-10-29 15:19:54] Starting ETL...\n",
      "[2025-10-29 15:19:54] Deduplicated: removed 0 duplicate row(s).\n",
      "[2025-10-29 15:19:54] ETL completed successfully. Rows written: 5.\n",
      "✅ Done. Scheduler exited after 3 runs.\n"
     ]
    }
   ],
   "source": [
    "# SCHEDULING\n",
    "\n",
    "    # --- DEMO MODE (runs every 10 seconds so students see it working) ---\n",
    "    # schedule.every(10).seconds.do(etl_job)\n",
    "\n",
    "    # --- PRODUCTION MODE (uncomment one of these) ---\n",
    "    # schedule.every().day.at(\"09:00\").do(etl_job)           # every day at 23 PM\n",
    "    # schedule.every().hour.at(\":00\").do(etl_job)            # top of every hour\n",
    "\n",
    "    # For continuity, keep every 10 seconds:\n",
    "    #schedule.every(10).seconds.do(etl_job)\n",
    "\n",
    "    #log(\"Scheduler started.\")\n",
    "    #while True:\n",
    "        #schedule.run_pending()\n",
    "        #time.sleep(1)\n",
    "\n",
    "# For classroom demo, keep every 10 seconds for three times:\n",
    "import time, schedule\n",
    "\n",
    "schedule.clear()\n",
    "schedule.every(10).seconds.do(etl_job)\n",
    "\n",
    "runs = 3  # run 3 times then stop\n",
    "for _ in range(runs):\n",
    "    schedule.run_pending()\n",
    "    time.sleep(10)   # wait for the next tick\n",
    "\n",
    "print(\"✅ Done. Scheduler exited after\", runs, \"runs.\")\n"
   ]
  },
  {
   "cell_type": "code",
   "execution_count": null,
   "id": "9ee2e979",
   "metadata": {},
   "outputs": [],
   "source": []
  }
 ],
 "metadata": {
  "kernelspec": {
   "display_name": "Python 3",
   "language": "python",
   "name": "python3"
  },
  "language_info": {
   "codemirror_mode": {
    "name": "ipython",
    "version": 3
   },
   "file_extension": ".py",
   "mimetype": "text/x-python",
   "name": "python",
   "nbconvert_exporter": "python",
   "pygments_lexer": "ipython3",
   "version": "3.10.9"
  }
 },
 "nbformat": 4,
 "nbformat_minor": 5
}
