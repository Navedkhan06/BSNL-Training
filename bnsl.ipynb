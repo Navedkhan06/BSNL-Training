{
 "cells": [
  {
   "cell_type": "code",
   "execution_count": 1,
   "id": "821b25d7",
   "metadata": {},
   "outputs": [],
   "source": [
    "import pandas as pd"
   ]
  },
  {
   "cell_type": "code",
   "execution_count": 3,
   "id": "421047b4",
   "metadata": {},
   "outputs": [],
   "source": [
    "raw = \"\"\"customer_id,data_used_gb,calls_made,revenue_inr,region,date\n",
    "1001,5.2,25,180,Delhi,2025/09/25\n",
    "1002,,40,280,Mumbai,2025-09-25\n",
    "1003,7.8,32,210,chennai,25-09-2025\n",
    "1004,15.6,55,,DELHI,2025-09-25\n",
    "1005,3.4,18,120,Kolkata,2025-09-25\n",
    "1005,3.4,18,120,Kolkata,2025-09-25\n",
    "1006,8.7,52,150,Jabalpur,2025-09-25\n",
    "1007,5.8,22,135,Bhopal,2025-09-25\n",
    "1008,6.5,40,180,Gwailor,2025-09-25\n",
    "1009,11.7,100,350,Indore,2025-09-25\n",
    "1010,2.5,23,105,Chandigarh,2025-09-25\n",
    "1011,9.5,50,190,Ambala,2025-09-25\n",
    "1012,12.1,80,270,Bangalore,2025-09-25\n",
    "1013,,37,205,Gurgaon,2025-09-25\n",
    "1014,4.8,43,132,Hyderbad,2025-09-25\n",
    "\"\"\"\n"
   ]
  },
  {
   "cell_type": "code",
   "execution_count": 4,
   "id": "6352fbf7",
   "metadata": {},
   "outputs": [
    {
     "data": {
      "text/plain": [
       "579"
      ]
     },
     "execution_count": 4,
     "metadata": {},
     "output_type": "execute_result"
    }
   ],
   "source": [
    "open(\"telecom_usage.csv\",\"w\").write(raw)\n"
   ]
  },
  {
   "cell_type": "code",
   "execution_count": 5,
   "id": "ce8d0c4e",
   "metadata": {},
   "outputs": [
    {
     "data": {
      "text/html": [
       "<div>\n",
       "<style scoped>\n",
       "    .dataframe tbody tr th:only-of-type {\n",
       "        vertical-align: middle;\n",
       "    }\n",
       "\n",
       "    .dataframe tbody tr th {\n",
       "        vertical-align: top;\n",
       "    }\n",
       "\n",
       "    .dataframe thead th {\n",
       "        text-align: right;\n",
       "    }\n",
       "</style>\n",
       "<table border=\"1\" class=\"dataframe\">\n",
       "  <thead>\n",
       "    <tr style=\"text-align: right;\">\n",
       "      <th></th>\n",
       "      <th>customer_id</th>\n",
       "      <th>data_used_gb</th>\n",
       "      <th>calls_made</th>\n",
       "      <th>revenue_inr</th>\n",
       "      <th>region</th>\n",
       "      <th>date</th>\n",
       "    </tr>\n",
       "  </thead>\n",
       "  <tbody>\n",
       "    <tr>\n",
       "      <th>0</th>\n",
       "      <td>1001</td>\n",
       "      <td>5.2</td>\n",
       "      <td>25</td>\n",
       "      <td>180.0</td>\n",
       "      <td>Delhi</td>\n",
       "      <td>2025/09/25</td>\n",
       "    </tr>\n",
       "    <tr>\n",
       "      <th>1</th>\n",
       "      <td>1002</td>\n",
       "      <td>NaN</td>\n",
       "      <td>40</td>\n",
       "      <td>280.0</td>\n",
       "      <td>Mumbai</td>\n",
       "      <td>2025-09-25</td>\n",
       "    </tr>\n",
       "    <tr>\n",
       "      <th>2</th>\n",
       "      <td>1003</td>\n",
       "      <td>7.8</td>\n",
       "      <td>32</td>\n",
       "      <td>210.0</td>\n",
       "      <td>chennai</td>\n",
       "      <td>25-09-2025</td>\n",
       "    </tr>\n",
       "    <tr>\n",
       "      <th>3</th>\n",
       "      <td>1004</td>\n",
       "      <td>15.6</td>\n",
       "      <td>55</td>\n",
       "      <td>NaN</td>\n",
       "      <td>DELHI</td>\n",
       "      <td>2025-09-25</td>\n",
       "    </tr>\n",
       "    <tr>\n",
       "      <th>4</th>\n",
       "      <td>1005</td>\n",
       "      <td>3.4</td>\n",
       "      <td>18</td>\n",
       "      <td>120.0</td>\n",
       "      <td>Kolkata</td>\n",
       "      <td>2025-09-25</td>\n",
       "    </tr>\n",
       "  </tbody>\n",
       "</table>\n",
       "</div>"
      ],
      "text/plain": [
       "   customer_id  data_used_gb  calls_made  revenue_inr   region        date\n",
       "0         1001           5.2          25        180.0    Delhi  2025/09/25\n",
       "1         1002           NaN          40        280.0   Mumbai  2025-09-25\n",
       "2         1003           7.8          32        210.0  chennai  25-09-2025\n",
       "3         1004          15.6          55          NaN    DELHI  2025-09-25\n",
       "4         1005           3.4          18        120.0  Kolkata  2025-09-25"
      ]
     },
     "execution_count": 5,
     "metadata": {},
     "output_type": "execute_result"
    }
   ],
   "source": [
    "pd.read_csv(\"telecom_usage.csv\").head()"
   ]
  },
  {
   "cell_type": "code",
   "execution_count": 6,
   "id": "772af344",
   "metadata": {},
   "outputs": [
    {
     "name": "stdout",
     "output_type": "stream",
     "text": [
      "Original shape: (15, 6)\n"
     ]
    },
    {
     "data": {
      "text/html": [
       "<div>\n",
       "<style scoped>\n",
       "    .dataframe tbody tr th:only-of-type {\n",
       "        vertical-align: middle;\n",
       "    }\n",
       "\n",
       "    .dataframe tbody tr th {\n",
       "        vertical-align: top;\n",
       "    }\n",
       "\n",
       "    .dataframe thead th {\n",
       "        text-align: right;\n",
       "    }\n",
       "</style>\n",
       "<table border=\"1\" class=\"dataframe\">\n",
       "  <thead>\n",
       "    <tr style=\"text-align: right;\">\n",
       "      <th></th>\n",
       "      <th>customer_id</th>\n",
       "      <th>data_used_gb</th>\n",
       "      <th>calls_made</th>\n",
       "      <th>revenue_inr</th>\n",
       "      <th>region</th>\n",
       "      <th>date</th>\n",
       "    </tr>\n",
       "  </thead>\n",
       "  <tbody>\n",
       "    <tr>\n",
       "      <th>0</th>\n",
       "      <td>1001</td>\n",
       "      <td>5.2</td>\n",
       "      <td>25</td>\n",
       "      <td>180.0</td>\n",
       "      <td>Delhi</td>\n",
       "      <td>2025/09/25</td>\n",
       "    </tr>\n",
       "    <tr>\n",
       "      <th>1</th>\n",
       "      <td>1002</td>\n",
       "      <td>NaN</td>\n",
       "      <td>40</td>\n",
       "      <td>280.0</td>\n",
       "      <td>Mumbai</td>\n",
       "      <td>2025-09-25</td>\n",
       "    </tr>\n",
       "    <tr>\n",
       "      <th>2</th>\n",
       "      <td>1003</td>\n",
       "      <td>7.8</td>\n",
       "      <td>32</td>\n",
       "      <td>210.0</td>\n",
       "      <td>chennai</td>\n",
       "      <td>25-09-2025</td>\n",
       "    </tr>\n",
       "    <tr>\n",
       "      <th>3</th>\n",
       "      <td>1004</td>\n",
       "      <td>15.6</td>\n",
       "      <td>55</td>\n",
       "      <td>NaN</td>\n",
       "      <td>DELHI</td>\n",
       "      <td>2025-09-25</td>\n",
       "    </tr>\n",
       "    <tr>\n",
       "      <th>4</th>\n",
       "      <td>1005</td>\n",
       "      <td>3.4</td>\n",
       "      <td>18</td>\n",
       "      <td>120.0</td>\n",
       "      <td>Kolkata</td>\n",
       "      <td>2025-09-25</td>\n",
       "    </tr>\n",
       "  </tbody>\n",
       "</table>\n",
       "</div>"
      ],
      "text/plain": [
       "   customer_id  data_used_gb  calls_made  revenue_inr   region        date\n",
       "0         1001           5.2          25        180.0    Delhi  2025/09/25\n",
       "1         1002           NaN          40        280.0   Mumbai  2025-09-25\n",
       "2         1003           7.8          32        210.0  chennai  25-09-2025\n",
       "3         1004          15.6          55          NaN    DELHI  2025-09-25\n",
       "4         1005           3.4          18        120.0  Kolkata  2025-09-25"
      ]
     },
     "execution_count": 6,
     "metadata": {},
     "output_type": "execute_result"
    }
   ],
   "source": [
    "import pandas as pd\n",
    "df = pd.read_csv(\"telecom_usage.csv\")\n",
    "print(\"Original shape:\", df.shape)   # (rows, columns)\n",
    "df.head()\n"
   ]
  },
  {
   "cell_type": "code",
   "execution_count": 8,
   "id": "a90739d7",
   "metadata": {},
   "outputs": [],
   "source": [
    "df = pd.read_csv(\"telecom_usage.csv\").head()"
   ]
  },
  {
   "cell_type": "code",
   "execution_count": 9,
   "id": "47dd6d69",
   "metadata": {},
   "outputs": [
    {
     "data": {
      "text/html": [
       "<div>\n",
       "<style scoped>\n",
       "    .dataframe tbody tr th:only-of-type {\n",
       "        vertical-align: middle;\n",
       "    }\n",
       "\n",
       "    .dataframe tbody tr th {\n",
       "        vertical-align: top;\n",
       "    }\n",
       "\n",
       "    .dataframe thead th {\n",
       "        text-align: right;\n",
       "    }\n",
       "</style>\n",
       "<table border=\"1\" class=\"dataframe\">\n",
       "  <thead>\n",
       "    <tr style=\"text-align: right;\">\n",
       "      <th></th>\n",
       "      <th>customer_id</th>\n",
       "      <th>data_used_gb</th>\n",
       "      <th>calls_made</th>\n",
       "      <th>revenue_inr</th>\n",
       "    </tr>\n",
       "  </thead>\n",
       "  <tbody>\n",
       "    <tr>\n",
       "      <th>count</th>\n",
       "      <td>5.000000</td>\n",
       "      <td>4.000000</td>\n",
       "      <td>5.00000</td>\n",
       "      <td>4.000000</td>\n",
       "    </tr>\n",
       "    <tr>\n",
       "      <th>mean</th>\n",
       "      <td>1003.000000</td>\n",
       "      <td>8.000000</td>\n",
       "      <td>34.00000</td>\n",
       "      <td>197.500000</td>\n",
       "    </tr>\n",
       "    <tr>\n",
       "      <th>std</th>\n",
       "      <td>1.581139</td>\n",
       "      <td>5.378971</td>\n",
       "      <td>14.30035</td>\n",
       "      <td>66.520673</td>\n",
       "    </tr>\n",
       "    <tr>\n",
       "      <th>min</th>\n",
       "      <td>1001.000000</td>\n",
       "      <td>3.400000</td>\n",
       "      <td>18.00000</td>\n",
       "      <td>120.000000</td>\n",
       "    </tr>\n",
       "    <tr>\n",
       "      <th>25%</th>\n",
       "      <td>1002.000000</td>\n",
       "      <td>4.750000</td>\n",
       "      <td>25.00000</td>\n",
       "      <td>165.000000</td>\n",
       "    </tr>\n",
       "    <tr>\n",
       "      <th>50%</th>\n",
       "      <td>1003.000000</td>\n",
       "      <td>6.500000</td>\n",
       "      <td>32.00000</td>\n",
       "      <td>195.000000</td>\n",
       "    </tr>\n",
       "    <tr>\n",
       "      <th>75%</th>\n",
       "      <td>1004.000000</td>\n",
       "      <td>9.750000</td>\n",
       "      <td>40.00000</td>\n",
       "      <td>227.500000</td>\n",
       "    </tr>\n",
       "    <tr>\n",
       "      <th>max</th>\n",
       "      <td>1005.000000</td>\n",
       "      <td>15.600000</td>\n",
       "      <td>55.00000</td>\n",
       "      <td>280.000000</td>\n",
       "    </tr>\n",
       "  </tbody>\n",
       "</table>\n",
       "</div>"
      ],
      "text/plain": [
       "       customer_id  data_used_gb  calls_made  revenue_inr\n",
       "count     5.000000      4.000000     5.00000     4.000000\n",
       "mean   1003.000000      8.000000    34.00000   197.500000\n",
       "std       1.581139      5.378971    14.30035    66.520673\n",
       "min    1001.000000      3.400000    18.00000   120.000000\n",
       "25%    1002.000000      4.750000    25.00000   165.000000\n",
       "50%    1003.000000      6.500000    32.00000   195.000000\n",
       "75%    1004.000000      9.750000    40.00000   227.500000\n",
       "max    1005.000000     15.600000    55.00000   280.000000"
      ]
     },
     "execution_count": 9,
     "metadata": {},
     "output_type": "execute_result"
    }
   ],
   "source": [
    "df.describe()"
   ]
  },
  {
   "cell_type": "code",
   "execution_count": 10,
   "id": "c2af4e31",
   "metadata": {},
   "outputs": [
    {
     "data": {
      "text/html": [
       "<div>\n",
       "<style scoped>\n",
       "    .dataframe tbody tr th:only-of-type {\n",
       "        vertical-align: middle;\n",
       "    }\n",
       "\n",
       "    .dataframe tbody tr th {\n",
       "        vertical-align: top;\n",
       "    }\n",
       "\n",
       "    .dataframe thead th {\n",
       "        text-align: right;\n",
       "    }\n",
       "</style>\n",
       "<table border=\"1\" class=\"dataframe\">\n",
       "  <thead>\n",
       "    <tr style=\"text-align: right;\">\n",
       "      <th></th>\n",
       "      <th>customer_id</th>\n",
       "      <th>data_used_gb</th>\n",
       "      <th>calls_made</th>\n",
       "      <th>revenue_inr</th>\n",
       "      <th>region</th>\n",
       "      <th>date</th>\n",
       "    </tr>\n",
       "  </thead>\n",
       "  <tbody>\n",
       "    <tr>\n",
       "      <th>0</th>\n",
       "      <td>1001</td>\n",
       "      <td>5.2</td>\n",
       "      <td>25</td>\n",
       "      <td>180.0</td>\n",
       "      <td>Delhi</td>\n",
       "      <td>2025/09/25</td>\n",
       "    </tr>\n",
       "    <tr>\n",
       "      <th>1</th>\n",
       "      <td>1002</td>\n",
       "      <td>NaN</td>\n",
       "      <td>40</td>\n",
       "      <td>280.0</td>\n",
       "      <td>Mumbai</td>\n",
       "      <td>2025-09-25</td>\n",
       "    </tr>\n",
       "    <tr>\n",
       "      <th>2</th>\n",
       "      <td>1003</td>\n",
       "      <td>7.8</td>\n",
       "      <td>32</td>\n",
       "      <td>210.0</td>\n",
       "      <td>chennai</td>\n",
       "      <td>25-09-2025</td>\n",
       "    </tr>\n",
       "    <tr>\n",
       "      <th>3</th>\n",
       "      <td>1004</td>\n",
       "      <td>15.6</td>\n",
       "      <td>55</td>\n",
       "      <td>NaN</td>\n",
       "      <td>DELHI</td>\n",
       "      <td>2025-09-25</td>\n",
       "    </tr>\n",
       "    <tr>\n",
       "      <th>4</th>\n",
       "      <td>1005</td>\n",
       "      <td>3.4</td>\n",
       "      <td>18</td>\n",
       "      <td>120.0</td>\n",
       "      <td>Kolkata</td>\n",
       "      <td>2025-09-25</td>\n",
       "    </tr>\n",
       "  </tbody>\n",
       "</table>\n",
       "</div>"
      ],
      "text/plain": [
       "   customer_id  data_used_gb  calls_made  revenue_inr   region        date\n",
       "0         1001           5.2          25        180.0    Delhi  2025/09/25\n",
       "1         1002           NaN          40        280.0   Mumbai  2025-09-25\n",
       "2         1003           7.8          32        210.0  chennai  25-09-2025\n",
       "3         1004          15.6          55          NaN    DELHI  2025-09-25\n",
       "4         1005           3.4          18        120.0  Kolkata  2025-09-25"
      ]
     },
     "execution_count": 10,
     "metadata": {},
     "output_type": "execute_result"
    }
   ],
   "source": [
    "df.head()"
   ]
  },
  {
   "cell_type": "code",
   "execution_count": 11,
   "id": "07901489",
   "metadata": {},
   "outputs": [
    {
     "name": "stdout",
     "output_type": "stream",
     "text": [
      "<class 'pandas.core.frame.DataFrame'>\n",
      "RangeIndex: 5 entries, 0 to 4\n",
      "Data columns (total 6 columns):\n",
      " #   Column        Non-Null Count  Dtype  \n",
      "---  ------        --------------  -----  \n",
      " 0   customer_id   5 non-null      int64  \n",
      " 1   data_used_gb  4 non-null      float64\n",
      " 2   calls_made    5 non-null      int64  \n",
      " 3   revenue_inr   4 non-null      float64\n",
      " 4   region        5 non-null      object \n",
      " 5   date          5 non-null      object \n",
      "dtypes: float64(2), int64(2), object(2)\n",
      "memory usage: 368.0+ bytes\n"
     ]
    }
   ],
   "source": [
    "df.info()"
   ]
  },
  {
   "cell_type": "code",
   "execution_count": 12,
   "id": "4b36d4bc",
   "metadata": {},
   "outputs": [],
   "source": [
    "before = len(df)"
   ]
  },
  {
   "cell_type": "code",
   "execution_count": 13,
   "id": "7048113f",
   "metadata": {},
   "outputs": [
    {
     "data": {
      "text/html": [
       "<div>\n",
       "<style scoped>\n",
       "    .dataframe tbody tr th:only-of-type {\n",
       "        vertical-align: middle;\n",
       "    }\n",
       "\n",
       "    .dataframe tbody tr th {\n",
       "        vertical-align: top;\n",
       "    }\n",
       "\n",
       "    .dataframe thead th {\n",
       "        text-align: right;\n",
       "    }\n",
       "</style>\n",
       "<table border=\"1\" class=\"dataframe\">\n",
       "  <thead>\n",
       "    <tr style=\"text-align: right;\">\n",
       "      <th></th>\n",
       "      <th>customer_id</th>\n",
       "      <th>data_used_gb</th>\n",
       "      <th>calls_made</th>\n",
       "      <th>revenue_inr</th>\n",
       "      <th>region</th>\n",
       "      <th>date</th>\n",
       "    </tr>\n",
       "  </thead>\n",
       "  <tbody>\n",
       "    <tr>\n",
       "      <th>0</th>\n",
       "      <td>1001</td>\n",
       "      <td>5.2</td>\n",
       "      <td>25</td>\n",
       "      <td>180.0</td>\n",
       "      <td>Delhi</td>\n",
       "      <td>2025/09/25</td>\n",
       "    </tr>\n",
       "    <tr>\n",
       "      <th>2</th>\n",
       "      <td>1003</td>\n",
       "      <td>7.8</td>\n",
       "      <td>32</td>\n",
       "      <td>210.0</td>\n",
       "      <td>chennai</td>\n",
       "      <td>25-09-2025</td>\n",
       "    </tr>\n",
       "    <tr>\n",
       "      <th>4</th>\n",
       "      <td>1005</td>\n",
       "      <td>3.4</td>\n",
       "      <td>18</td>\n",
       "      <td>120.0</td>\n",
       "      <td>Kolkata</td>\n",
       "      <td>2025-09-25</td>\n",
       "    </tr>\n",
       "  </tbody>\n",
       "</table>\n",
       "</div>"
      ],
      "text/plain": [
       "   customer_id  data_used_gb  calls_made  revenue_inr   region        date\n",
       "0         1001           5.2          25        180.0    Delhi  2025/09/25\n",
       "2         1003           7.8          32        210.0  chennai  25-09-2025\n",
       "4         1005           3.4          18        120.0  Kolkata  2025-09-25"
      ]
     },
     "execution_count": 13,
     "metadata": {},
     "output_type": "execute_result"
    }
   ],
   "source": [
    "df.dropna()"
   ]
  },
  {
   "cell_type": "code",
   "execution_count": 14,
   "id": "ebd794db",
   "metadata": {},
   "outputs": [],
   "source": [
    "after = len(df)"
   ]
  },
  {
   "cell_type": "code",
   "execution_count": 15,
   "id": "5e00d504",
   "metadata": {},
   "outputs": [
    {
     "name": "stdout",
     "output_type": "stream",
     "text": [
      "Saved missing_telecom_usage.csv with 5 rows.\n"
     ]
    }
   ],
   "source": [
    "# df = df.dropna(subset=[\"data_used_in_GB\",\"date\"])\n",
    "\n",
    "df.to_csv(\"missing_telecom_usage.csv\", index=False)\n",
    "print(\"Saved missing_telecom_usage.csv with\", len(df), \"rows.\")\n"
   ]
  },
  {
   "cell_type": "code",
   "execution_count": 16,
   "id": "96394396",
   "metadata": {},
   "outputs": [
    {
     "data": {
      "text/html": [
       "<div>\n",
       "<style scoped>\n",
       "    .dataframe tbody tr th:only-of-type {\n",
       "        vertical-align: middle;\n",
       "    }\n",
       "\n",
       "    .dataframe tbody tr th {\n",
       "        vertical-align: top;\n",
       "    }\n",
       "\n",
       "    .dataframe thead th {\n",
       "        text-align: right;\n",
       "    }\n",
       "</style>\n",
       "<table border=\"1\" class=\"dataframe\">\n",
       "  <thead>\n",
       "    <tr style=\"text-align: right;\">\n",
       "      <th></th>\n",
       "      <th>customer_id</th>\n",
       "      <th>data_used_gb</th>\n",
       "      <th>calls_made</th>\n",
       "      <th>revenue_inr</th>\n",
       "      <th>region</th>\n",
       "      <th>date</th>\n",
       "    </tr>\n",
       "  </thead>\n",
       "  <tbody>\n",
       "    <tr>\n",
       "      <th>0</th>\n",
       "      <td>1001</td>\n",
       "      <td>5.2</td>\n",
       "      <td>25</td>\n",
       "      <td>180.0</td>\n",
       "      <td>Delhi</td>\n",
       "      <td>2025/09/25</td>\n",
       "    </tr>\n",
       "    <tr>\n",
       "      <th>1</th>\n",
       "      <td>1002</td>\n",
       "      <td>NaN</td>\n",
       "      <td>40</td>\n",
       "      <td>280.0</td>\n",
       "      <td>Mumbai</td>\n",
       "      <td>2025-09-25</td>\n",
       "    </tr>\n",
       "    <tr>\n",
       "      <th>2</th>\n",
       "      <td>1003</td>\n",
       "      <td>7.8</td>\n",
       "      <td>32</td>\n",
       "      <td>210.0</td>\n",
       "      <td>chennai</td>\n",
       "      <td>25-09-2025</td>\n",
       "    </tr>\n",
       "    <tr>\n",
       "      <th>3</th>\n",
       "      <td>1004</td>\n",
       "      <td>15.6</td>\n",
       "      <td>55</td>\n",
       "      <td>NaN</td>\n",
       "      <td>DELHI</td>\n",
       "      <td>2025-09-25</td>\n",
       "    </tr>\n",
       "    <tr>\n",
       "      <th>4</th>\n",
       "      <td>1005</td>\n",
       "      <td>3.4</td>\n",
       "      <td>18</td>\n",
       "      <td>120.0</td>\n",
       "      <td>Kolkata</td>\n",
       "      <td>2025-09-25</td>\n",
       "    </tr>\n",
       "  </tbody>\n",
       "</table>\n",
       "</div>"
      ],
      "text/plain": [
       "   customer_id  data_used_gb  calls_made  revenue_inr   region        date\n",
       "0         1001           5.2          25        180.0    Delhi  2025/09/25\n",
       "1         1002           NaN          40        280.0   Mumbai  2025-09-25\n",
       "2         1003           7.8          32        210.0  chennai  25-09-2025\n",
       "3         1004          15.6          55          NaN    DELHI  2025-09-25\n",
       "4         1005           3.4          18        120.0  Kolkata  2025-09-25"
      ]
     },
     "execution_count": 16,
     "metadata": {},
     "output_type": "execute_result"
    }
   ],
   "source": [
    "df.head()"
   ]
  },
  {
   "cell_type": "code",
   "execution_count": 17,
   "id": "e74c775e",
   "metadata": {},
   "outputs": [
    {
     "name": "stdout",
     "output_type": "stream",
     "text": [
      "Unparseable date rows: 4\n"
     ]
    }
   ],
   "source": [
    "df[\"date\"] = pd.to_datetime(df[\"date\"], errors=\"coerce\")  # coerce turns bad dates into NaT\n",
    "bad_dates = df[\"date\"].isna().sum()\n",
    "print(\"Unparseable date rows:\", bad_dates)\n",
    "df = df.dropna(subset=[\"date\"])  # simplest for class\n"
   ]
  },
  {
   "cell_type": "code",
   "execution_count": 18,
   "id": "d869317a",
   "metadata": {},
   "outputs": [
    {
     "name": "stdout",
     "output_type": "stream",
     "text": [
      "Removed 0 duplicate rows (kept the first occurrence of each).\n"
     ]
    }
   ],
   "source": [
    "before = len(df)\n",
    "\n",
    "# Keep the first occurrence of each duplicate and drop the rest\n",
    "df = df.drop_duplicates(keep='first')\n",
    "\n",
    "after = len(df)\n",
    "print(f\"Removed {before - after} duplicate rows (kept the first occurrence of each).\")\n"
   ]
  },
  {
   "cell_type": "code",
   "execution_count": 19,
   "id": "52b6af67",
   "metadata": {},
   "outputs": [
    {
     "name": "stdout",
     "output_type": "stream",
     "text": [
      "Saved cleaned_telecom_usage.csv with 1 rows.\n"
     ]
    }
   ],
   "source": [
    "df.to_csv(\"cleaned_telecom_usage.csv\", index=False)\n",
    "print(\"Saved cleaned_telecom_usage.csv with\", len(df), \"rows.\")\n"
   ]
  },
  {
   "cell_type": "code",
   "execution_count": 20,
   "id": "24c3b22a",
   "metadata": {},
   "outputs": [
    {
     "data": {
      "text/html": [
       "<div>\n",
       "<style scoped>\n",
       "    .dataframe tbody tr th:only-of-type {\n",
       "        vertical-align: middle;\n",
       "    }\n",
       "\n",
       "    .dataframe tbody tr th {\n",
       "        vertical-align: top;\n",
       "    }\n",
       "\n",
       "    .dataframe thead th {\n",
       "        text-align: right;\n",
       "    }\n",
       "</style>\n",
       "<table border=\"1\" class=\"dataframe\">\n",
       "  <thead>\n",
       "    <tr style=\"text-align: right;\">\n",
       "      <th></th>\n",
       "      <th>customer_id</th>\n",
       "      <th>data_used_gb</th>\n",
       "      <th>calls_made</th>\n",
       "      <th>revenue_inr</th>\n",
       "      <th>region</th>\n",
       "      <th>date</th>\n",
       "    </tr>\n",
       "  </thead>\n",
       "  <tbody>\n",
       "    <tr>\n",
       "      <th>0</th>\n",
       "      <td>1001</td>\n",
       "      <td>5.2</td>\n",
       "      <td>25</td>\n",
       "      <td>180.0</td>\n",
       "      <td>Delhi</td>\n",
       "      <td>2025-09-25</td>\n",
       "    </tr>\n",
       "  </tbody>\n",
       "</table>\n",
       "</div>"
      ],
      "text/plain": [
       "   customer_id  data_used_gb  calls_made  revenue_inr region        date\n",
       "0         1001           5.2          25        180.0  Delhi  2025-09-25"
      ]
     },
     "metadata": {},
     "output_type": "display_data"
    }
   ],
   "source": [
    "import pandas as pd\n",
    "pd.set_option('display.max_rows', None)  # show all rows in output\n",
    "cleaned_df = pd.read_csv(\"cleaned_telecom_usage.csv\")\n",
    "display(cleaned_df)\n"
   ]
  },
  {
   "cell_type": "code",
   "execution_count": null,
   "id": "027fb5a8",
   "metadata": {},
   "outputs": [],
   "source": []
  }
 ],
 "metadata": {
  "kernelspec": {
   "display_name": "Python 3",
   "language": "python",
   "name": "python3"
  },
  "language_info": {
   "codemirror_mode": {
    "name": "ipython",
    "version": 3
   },
   "file_extension": ".py",
   "mimetype": "text/x-python",
   "name": "python",
   "nbconvert_exporter": "python",
   "pygments_lexer": "ipython3",
   "version": "3.10.9"
  }
 },
 "nbformat": 4,
 "nbformat_minor": 5
}
